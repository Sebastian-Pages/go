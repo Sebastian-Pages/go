{
 "metadata": {
  "language_info": {
   "codemirror_mode": {
    "name": "ipython",
    "version": 3
   },
   "file_extension": ".py",
   "mimetype": "text/x-python",
   "name": "python",
   "nbconvert_exporter": "python",
   "pygments_lexer": "ipython3",
   "version": "3.7.3-final"
  },
  "orig_nbformat": 2,
  "kernelspec": {
   "name": "python3",
   "display_name": "Python 3.7.3 64-bit",
   "metadata": {
    "interpreter": {
     "hash": "e534e48711db4d1e1c48977d0d14ff85b1f16d41bcc4fdfd88268a329b3c9d66"
    }
   }
  }
 },
 "nbformat": 4,
 "nbformat_minor": 2,
 "cells": [
  {
   "source": [
    "# Apprenez une heuristique pour le Go\\n,\n",
    "        \"\\n\",\n",
    "        \"Dans ce TP notÃ©, vous devrez dÃ©ployer des methodes d'apprentissage automatique permettant d'Ã©valuer la qualitÃ© de plateaux de GO.\\n\",\n",
    "        \"\\n\",\n",
    "        \"Pour cela, vous disposerez de 41563 exemples de plateau de Go, tous gÃ©nÃ©rÃ©s par gnugo aprÃ¨s quelques coups contre lui mÃªme avec un niveau de difficultÃ© de 0. Par chaque plateau, nous avons lancÃ© 100 matchs de gnugo contre lui mÃªme, toujours avec un niveau 0, et comptÃ© le nombre de victoires de noir et de blanc depuis ce plateau.\\n\",\n",
    "        \"\\n\",\n",
    "        \"A noter, chaque \\\"rollout\\\" (un rollout et un dÃ©roulement possible du match depuis le plateau de rÃ©fÃ©rence) correspond Ã  des mouvements choisis alÃ©atoirement parmis les 10 meilleurs mouvements possibles, en biasant le choix alÃ©atoire par la qualitÃ© prÃ©dite du mouvement par gnugo (les meilleurs mouvements ont une plus forte probabilitÃ© d'Ãªtre tirÃ©s).\\n\",\n",
    "        \"\\n\",\n",
    "        \"Les donnÃ©es dont vous disposez sont brutes. Ce sera Ã  vous de proposer un format adÃ©quat pour utiliser ces donnÃ©es en entrÃ©e de votre rÃ©seau neuronal. \\n\",\n",
    "        \"\\n\",\n",
    "        \"## Comment sera Ã©valuÃ© votre modÃ¨le ?\\n\","
   ],
   "cell_type": "markdown",
   "metadata": {}
  },
  {
   "cell_type": "code",
   "execution_count": 4,
   "metadata": {},
   "outputs": [
    {
     "output_type": "stream",
     "name": "stdout",
     "text": [
      "We have 41563 examples with the scores to train, ...\nWe have 1000 examples to score (but for which we don't know the real values)\n"
     ]
    }
   ],
   "source": [
    "# Import du fichier d'exemples\n",
    "\n",
    "def get_raw_data_go(file):\n",
    "    ''' Returns the set of samples from the local file or download it if it does not exists'''\n",
    "    import gzip, os.path\n",
    "    import json\n",
    "\n",
    "    if not os.path.isfile(file):\n",
    "        print(\"File\", file, \"not found, I am downloading it...\", end=\"\")\n",
    "        import urllib.request \n",
    "        urllib.request.urlretrieve (\"https://www.labri.fr/perso/lsimon/IA-M1/\" + file, file)\n",
    "        print(\" Done\")\n",
    "\n",
    "    with gzip.open(file) as fz:\n",
    "        data = json.loads(fz.read().decode(\"utf-8\"))\n",
    "    return data\n",
    "\n",
    "data = get_raw_data_go(\"samples-9x9.json.gz\")\n",
    "data_to_evaluate = get_raw_data_go(\"positions-to-evaluate-9x9.json.gz\")\n",
    "\n",
    "print(\"We have\", len(data),\"examples with the scores to train, ...\")\n",
    "print(\"We have\", len(data_to_evaluate),\"examples to score (but for which we don't know the real values)\")"
   ]
  },
  {
   "cell_type": "code",
   "execution_count": 5,
   "metadata": {},
   "outputs": [
    {
     "output_type": "stream",
     "name": "stdout",
     "text": [
      "Exemple sur les données qui ont les résultats visés\nSample 10\n\nDonnées brutes en format JSON: {'depth': 8, 'list_of_moves': ['C6', 'E7', 'C3', 'C8', 'E5', 'G3', 'B7', 'H7'], 'black_stones': ['B7', 'C6', 'E5', 'C3'], 'white_stones': ['C8', 'E7', 'H7', 'G3'], 'rollouts': 100, 'black_wins': 60, 'black_points': 876.0, 'white_wins': 40, 'white_points': 378.0}\n\nThe sample was obtained after 8 moves\nThe successive moves were ['C6', 'E7', 'C3', 'C8', 'E5', 'G3', 'B7', 'H7']\nAfter these moves and all the captures, there was black stones at the following position ['B7', 'C6', 'E5', 'C3']\nAfter these moves and all the captures, there was white stones at the following position ['C8', 'E7', 'H7', 'G3']\nNumber of rollouts (gnugo games played against itself from this position): 100\nOver these 100 games, black won 60 times with 876.0 total points over all this winning games\nOver these 100 games, white won 40 times with 378.0 total points over all this winning games\n\nRemarquez que, sur les données à prédire, il manque des valeurs :) :\n{'depth': 16, 'list_of_moves': ['E6', 'E3', 'C3', 'G6', 'G7', 'C6', 'H7', 'H4', 'D2', 'F6', 'E8', 'C8', 'E5', 'B9', 'E7', 'E2'], 'black_stones': ['E8', 'E7', 'G7', 'H7', 'E6', 'E5', 'C3', 'D2'], 'white_stones': ['B9', 'C8', 'C6', 'F6', 'G6', 'H4', 'E3'], 'rollouts': 100}\n"
     ]
    }
   ],
   "source": [
    "def summary_of_example(data, sample_nb):\n",
    "    ''' Gives you some insights about a sample number'''\n",
    "    sample = data[sample_nb]\n",
    "    print(\"Sample\", sample_nb)\n",
    "    print()\n",
    "    print(\"Données brutes en format JSON:\", sample)\n",
    "    print()\n",
    "    print(\"The sample was obtained after\", sample[\"depth\"], \"moves\")\n",
    "    print(\"The successive moves were\", sample[\"list_of_moves\"])\n",
    "    print(\"After these moves and all the captures, there was black stones at the following position\", sample[\"black_stones\"])\n",
    "    print(\"After these moves and all the captures, there was white stones at the following position\", sample[\"white_stones\"])\n",
    "    print(\"Number of rollouts (gnugo games played against itself from this position):\", sample[\"rollouts\"])\n",
    "    print(\"Over these\", sample[\"rollouts\"], \"games, black won\", sample[\"black_wins\"], \"times with\", sample[\"black_points\"], \"total points over all this winning games\")\n",
    "    print(\"Over these\", sample[\"rollouts\"], \"games, white won\", sample[\"white_wins\"], \"times with\", sample[\"white_points\"], \"total points over all this winning games\")\n",
    "\n",
    "print(\"Exemple sur les données qui ont les résultats visés\")\n",
    "summary_of_example(data,10)\n",
    "\n",
    "print()\n",
    "print(\"Remarquez que, sur les données à prédire, il manque des valeurs :) :\")\n",
    "print(data_to_evaluate[0])"
   ]
  }
 ]
}